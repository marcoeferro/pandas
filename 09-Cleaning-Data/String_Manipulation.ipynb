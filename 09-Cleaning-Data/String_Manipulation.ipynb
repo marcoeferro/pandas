{
 "cells": [
  {
   "cell_type": "markdown",
   "metadata": {},
   "source": [
    "# Manipulaciones de Strings\n",
    "\n",
    "\n",
    "Python en es parte muy usado por su facilidad a la hora de manipular strings"
   ]
  },
  {
   "cell_type": "code",
   "execution_count": 1,
   "metadata": {},
   "outputs": [
    {
     "data": {
      "text/plain": [
       "['a', 'b', ' guido']"
      ]
     },
     "execution_count": 1,
     "metadata": {},
     "output_type": "execute_result"
    }
   ],
   "source": [
    "val = 'a,b, guido'\n",
    "val.split(',')"
   ]
  },
  {
   "cell_type": "code",
   "execution_count": 2,
   "metadata": {},
   "outputs": [
    {
     "data": {
      "text/plain": [
       "['a', 'b', 'guido']"
      ]
     },
     "execution_count": 2,
     "metadata": {},
     "output_type": "execute_result"
    }
   ],
   "source": [
    "pieces = [x.strip() for x in val.split(',')]\n",
    "pieces"
   ]
  },
  {
   "cell_type": "code",
   "execution_count": 4,
   "metadata": {},
   "outputs": [
    {
     "name": "stdout",
     "output_type": "stream",
     "text": [
      "a, b, guido\n"
     ]
    }
   ],
   "source": [
    "first, second, third = pieces\n",
    "print(f'{first}, {second}, {third}')"
   ]
  },
  {
   "cell_type": "code",
   "execution_count": null,
   "metadata": {},
   "outputs": [],
   "source": [
    "'::'.join(pieces) # podemos unir las el metodo join"
   ]
  },
  {
   "cell_type": "code",
   "execution_count": null,
   "metadata": {},
   "outputs": [],
   "source": [
    "'guido' in val"
   ]
  },
  {
   "cell_type": "code",
   "execution_count": 5,
   "metadata": {},
   "outputs": [
    {
     "data": {
      "text/plain": [
       "1"
      ]
     },
     "execution_count": 5,
     "metadata": {},
     "output_type": "execute_result"
    }
   ],
   "source": [
    "val.index(',')"
   ]
  },
  {
   "cell_type": "code",
   "execution_count": 6,
   "metadata": {},
   "outputs": [
    {
     "data": {
      "text/plain": [
       "-1"
      ]
     },
     "execution_count": 6,
     "metadata": {},
     "output_type": "execute_result"
    }
   ],
   "source": [
    "val.find(':')"
   ]
  },
  {
   "cell_type": "markdown",
   "metadata": {},
   "source": [
    "Observar que la diferencia entre los 2 ultimos es que index eleva un error cuando no encuentra el valor adecuando en cambio find lo que hace es devolver -1"
   ]
  },
  {
   "cell_type": "markdown",
   "metadata": {},
   "source": [
    "## Python String Methods\n",
    "\n",
    "| Method | Description |\n",
    "|---|---|\n",
    "| `count(substring)` | Returns the number of non-overlapping occurrences of `substring` in the string. |\n",
    "| `endswith(suffix)` | Returns `True` if the string ends with `suffix`. |\n",
    "| `startswith(prefix)` | Returns `True` if the string starts with `prefix`. |\n",
    "| `join(iterable)` | Uses the string as a delimiter to concatenate a sequence of other strings. |\n",
    "| `index(substring)` | Returns the position of the first character in `substring` if found in the string; raises `ValueError` if not found. |\n",
    "| `find(substring)` | Returns the position of the first character of the first occurrence of `substring` in the string; like `index`, but returns -1 if not found. |\n",
    "| `rfind(substring)` | Returns the position of the first character of the last occurrence of `substring` in the string; returns -1 if not found. |\n",
    "| `replace(old, new)` | Replaces occurrences of `old` with `new`. |\n",
    "| `strip()`, `rstrip()`, `lstrip()` | Trim whitespace, including newlines; equivalent to `x.strip()` (and `rstrip`, `lstrip`, respectively) for each element. |\n",
    "| `split(delimiter)` | Breaks the string into a list of substrings using the passed delimiter. |\n",
    "| `lower()` | Converts alphabet characters to lowercase. |\n",
    "| `upper()` | Converts alphabet characters to uppercase. |\n",
    "| `casefold()` | Converts characters to lowercase, and converts any region-specific variable character combinations to a common comparable form. |\n",
    "| `ljust(width, fillchar=' ')`, `rjust(width, fillchar=' ')` | Left justify or right justify, respectively; pad the opposite side of the string with spaces (or some other fill character) to return a string with a minimum width. |\n"
   ]
  },
  {
   "cell_type": "markdown",
   "metadata": {},
   "source": [
    "# Expresiones Regulares\n",
    "\n",
    "las expresiones regulares on strings que respetan uan convencion de escritura y cuyo uso es para encontrar secuencias que respetan cierto patrones dentro de un texto. Python utliza una libreria llamada re para dar soporte a las expresiones regulares."
   ]
  },
  {
   "cell_type": "code",
   "execution_count": 7,
   "metadata": {},
   "outputs": [],
   "source": [
    "import re"
   ]
  },
  {
   "cell_type": "code",
   "execution_count": 9,
   "metadata": {},
   "outputs": [
    {
     "name": "stderr",
     "output_type": "stream",
     "text": [
      "<>:2: SyntaxWarning: invalid escape sequence '\\s'\n",
      "<>:2: SyntaxWarning: invalid escape sequence '\\s'\n",
      "C:\\Users\\Usuario\\AppData\\Local\\Temp\\ipykernel_21128\\3406155128.py:2: SyntaxWarning: invalid escape sequence '\\s'\n",
      "  re.split('\\s+', text)\n"
     ]
    },
    {
     "data": {
      "text/plain": [
       "['foo', 'bar', 'baz', 'qux']"
      ]
     },
     "execution_count": 9,
     "metadata": {},
     "output_type": "execute_result"
    }
   ],
   "source": [
    "text = \"foo bar\\t baz \\tqux\"\n",
    "re.split('\\s+', text)"
   ]
  },
  {
   "cell_type": "code",
   "execution_count": 11,
   "metadata": {},
   "outputs": [
    {
     "name": "stderr",
     "output_type": "stream",
     "text": [
      "<>:1: SyntaxWarning: invalid escape sequence '\\s'\n",
      "<>:1: SyntaxWarning: invalid escape sequence '\\s'\n",
      "C:\\Users\\Usuario\\AppData\\Local\\Temp\\ipykernel_21128\\3294282709.py:1: SyntaxWarning: invalid escape sequence '\\s'\n",
      "  regex = re.compile('\\s+') # compile nos permite guardar el objeto regex lo que es muy util para mejorar los tiempos y recursos de porcesamiento si es que la expresion se utilizara mulitples veces\n"
     ]
    }
   ],
   "source": [
    "regex = re.compile('\\s+') # compile nos permite guardar el objeto regex lo que es muy util para mejorar los tiempos y recursos de porcesamiento si es que la expresion se utilizara mulitples veces"
   ]
  },
  {
   "cell_type": "code",
   "execution_count": 12,
   "metadata": {},
   "outputs": [
    {
     "data": {
      "text/plain": [
       "['foo', 'bar', 'baz', 'qux']"
      ]
     },
     "execution_count": 12,
     "metadata": {},
     "output_type": "execute_result"
    }
   ],
   "source": [
    "regex.split(text)"
   ]
  },
  {
   "cell_type": "code",
   "execution_count": 13,
   "metadata": {},
   "outputs": [
    {
     "data": {
      "text/plain": [
       "[' ', '\\t ', ' \\t']"
      ]
     },
     "execution_count": 13,
     "metadata": {},
     "output_type": "execute_result"
    }
   ],
   "source": [
    "regex.findall(text)"
   ]
  },
  {
   "cell_type": "markdown",
   "metadata": {},
   "source": [
    "Se puede apreciar de mejor manera el poder de una regex cuando se tiene un texto que no esta \"lmpio\""
   ]
  },
  {
   "cell_type": "code",
   "execution_count": 14,
   "metadata": {},
   "outputs": [],
   "source": [
    "text = \"\"\"Dave dave@google.com\n",
    "Steve steve@gmail.com\n",
    "Rob rob@gmail.com\n",
    "Ryan ryan@yahoo.com\n",
    "\"\"\"\n",
    "pattern = r'[A-Z0-9._%+-]+@[A-Z0-9.-]+\\.[A-Z]{2,4}'\n"
   ]
  },
  {
   "cell_type": "code",
   "execution_count": 15,
   "metadata": {},
   "outputs": [],
   "source": [
    "# re.IGNORECASE makes the regex case-insensitive\n",
    "regex = re.compile(pattern, flags=re.IGNORECASE)\n"
   ]
  },
  {
   "cell_type": "code",
   "execution_count": 16,
   "metadata": {},
   "outputs": [
    {
     "data": {
      "text/plain": [
       "['dave@google.com', 'steve@gmail.com', 'rob@gmail.com', 'ryan@yahoo.com']"
      ]
     },
     "execution_count": 16,
     "metadata": {},
     "output_type": "execute_result"
    }
   ],
   "source": [
    "regex.findall(text)"
   ]
  },
  {
   "cell_type": "code",
   "execution_count": 17,
   "metadata": {},
   "outputs": [],
   "source": [
    "m = regex.search(text)"
   ]
  },
  {
   "cell_type": "code",
   "execution_count": 18,
   "metadata": {},
   "outputs": [
    {
     "data": {
      "text/plain": [
       "'dave@google.com'"
      ]
     },
     "execution_count": 18,
     "metadata": {},
     "output_type": "execute_result"
    }
   ],
   "source": [
    "text[m.start():m.end()]"
   ]
  },
  {
   "cell_type": "markdown",
   "metadata": {},
   "source": [
    "Las expresiones regulares nos permiten separar cada uno de los patrones encontrados en grupos usando ()"
   ]
  },
  {
   "cell_type": "code",
   "execution_count": 20,
   "metadata": {},
   "outputs": [],
   "source": [
    "pattern = r'([A-Z0-9._%+-]+)@([A-Z0-9.-]+)\\.([A-Z]{2,4})'\n",
    "regex = re.compile(pattern, flags=re.IGNORECASE)"
   ]
  },
  {
   "cell_type": "code",
   "execution_count": 21,
   "metadata": {},
   "outputs": [
    {
     "data": {
      "text/plain": [
       "('wesm', 'bright', 'net')"
      ]
     },
     "execution_count": 21,
     "metadata": {},
     "output_type": "execute_result"
    }
   ],
   "source": [
    "m = regex.match('wesm@bright.net')\n",
    "m.groups()"
   ]
  },
  {
   "cell_type": "code",
   "execution_count": 22,
   "metadata": {},
   "outputs": [
    {
     "data": {
      "text/plain": [
       "[('dave', 'google', 'com'),\n",
       " ('steve', 'gmail', 'com'),\n",
       " ('rob', 'gmail', 'com'),\n",
       " ('ryan', 'yahoo', 'com')]"
      ]
     },
     "execution_count": 22,
     "metadata": {},
     "output_type": "execute_result"
    }
   ],
   "source": [
    "regex.findall(text)"
   ]
  },
  {
   "cell_type": "markdown",
   "metadata": {},
   "source": [
    "Ganamos acceso a los crupos de las Regex usando simbolos especiales \\1,\\2,\\3,etc"
   ]
  },
  {
   "cell_type": "code",
   "execution_count": 23,
   "metadata": {},
   "outputs": [
    {
     "name": "stdout",
     "output_type": "stream",
     "text": [
      "Dave Username: dave, Domain: google, Suffix: com\n",
      "Steve Username: steve, Domain: gmail, Suffix: com\n",
      "Rob Username: rob, Domain: gmail, Suffix: com\n",
      "Ryan Username: ryan, Domain: yahoo, Suffix: com\n",
      "\n"
     ]
    }
   ],
   "source": [
    "print(regex.sub(r'Username: \\1, Domain: \\2, Suffix: \\3', text))"
   ]
  },
  {
   "cell_type": "markdown",
   "metadata": {},
   "source": [
    "## Regular Expression Methods\n",
    "\n",
    "| Method | Description |\n",
    "|---|---|\n",
    "| `findall(pattern)` | Returns all non-overlapping matching patterns in a string as a list. |\n",
    "| `finditer(pattern)` | Like `findall`, but returns an iterator. |\n",
    "| `match(pattern)` | Matches the pattern at the start of the string and optionally segments pattern components into groups; if the pattern matches, returns a match object, and otherwise `None`. |\n",
    "| `search(pattern)` | Scans the string for a match to the pattern; returning a match object if so; unlike `match`, the match can be anywhere in the string as opposed to only at the beginning. |\n",
    "| `split(pattern)` | Breaks the string into pieces at each occurrence of the pattern. |\n",
    "| `sub(pattern, repl, string)` | Replaces all occurrences of the pattern in the string with `repl`. |\n",
    "| `subn(pattern, repl, string, count=0)` | Replaces the first `n` occurrences of the pattern in the string with `repl`. If `count` is 0, all occurrences are replaced. |\n"
   ]
  },
  {
   "cell_type": "markdown",
   "metadata": {},
   "source": [
    "# Expresiones Regulares vectorizadas\n",
    "\n",
    "En python es posible utilizar expresiones regularas de manera vectorizada para mejorar los timepos de ejectucion esto se puede lograr usando tanto funciones vectoriales como map como usando str la difernecia es que map no maneja valores nulos en cambio str puede manejar valores nulos con lo que el standart es usar str en lugar de map"
   ]
  },
  {
   "cell_type": "code",
   "execution_count": 24,
   "metadata": {},
   "outputs": [],
   "source": [
    "import pandas as pd \n",
    "import numpy as np"
   ]
  },
  {
   "cell_type": "code",
   "execution_count": 25,
   "metadata": {},
   "outputs": [],
   "source": [
    "data = {'Dave': 'dave@google.com', 'Steve': 'steve@gmail.com','Rob': 'rob@gmail.com', 'Wes': np.nan}\n",
    "data = pd.Series(data)"
   ]
  },
  {
   "cell_type": "code",
   "execution_count": 27,
   "metadata": {},
   "outputs": [
    {
     "data": {
      "text/plain": [
       "Dave     [(dave, google, com)]\n",
       "Steve    [(steve, gmail, com)]\n",
       "Rob        [(rob, gmail, com)]\n",
       "Wes                        NaN\n",
       "dtype: object"
      ]
     },
     "execution_count": 27,
     "metadata": {},
     "output_type": "execute_result"
    }
   ],
   "source": [
    "pattern = '([A-Z0-9._%+-]+)@([A-Z0-9.-]+)\\\\.([A-Z]{2,4})'\n",
    "data.str.findall(pattern, flags=re.IGNORECASE)"
   ]
  },
  {
   "cell_type": "code",
   "execution_count": 34,
   "metadata": {},
   "outputs": [],
   "source": [
    "matches = data.str.match(pattern, flags=re.IGNORECASE)"
   ]
  },
  {
   "cell_type": "code",
   "execution_count": 37,
   "metadata": {},
   "outputs": [
    {
     "data": {
      "text/plain": [
       "Dave     True\n",
       "Steve    True\n",
       "Rob      True\n",
       "Wes       NaN\n",
       "dtype: object"
      ]
     },
     "execution_count": 37,
     "metadata": {},
     "output_type": "execute_result"
    }
   ],
   "source": [
    "matches"
   ]
  },
  {
   "cell_type": "markdown",
   "metadata": {},
   "source": [
    "## Vectorized String Methods\n",
    "\n",
    "| Method | Description |\n",
    "|---|---|\n",
    "| `cat(delimiter)` | Concatenate strings element-wise with an optional delimiter. |\n",
    "| `contains(pattern, regex=False)` | Return a boolean array indicating if each string contains the pattern or regular expression. |\n",
    "| `count(pattern, regex=False)` | Count occurrences of the pattern in each string. |\n",
    "| `extract(pattern)` | Use a regular expression with groups to extract one or more strings from a Series of strings; the result will be a DataFrame with one column per group. |\n",
    "| `endswith(pattern)` | Equivalent to `x.endswith(pattern)` for each element. |\n",
    "| `startswith(pattern)` | Equivalent to `x.startswith(pattern)` for each element. |\n",
    "| `findall(pattern, regex=False)` | Compute a list of all occurrences of the pattern or regular expression for each string. |\n",
    "| `get(i)` | Index into each element (retrieve the i-th element). |\n",
    "| `isalnum()` | Equivalent to the built-in `str.isalnum()`. |\n",
    "| `isalpha()` | Equivalent to the built-in `str.isalpha()`. |\n",
    "| `isdecimal()` | Equivalent to the built-in `str.isdecimal()`. |\n",
    "| `isdigit()` | Equivalent to the built-in `str.isdigit()`. |\n",
    "| `islower()` | Equivalent to the built-in `str.islower()`. |\n",
    "| `isnumeric()` | Equivalent to the built-in `str.isnumeric()`. |\n",
    "| `isupper()` | Equivalent to the built-in `str.isupper()`. |\n",
    "| `join(sep)` | Join strings in each element of the Series with the passed separator. |\n",
    "| `len()` | Compute the length of each string. |\n",
    "| `lower(), upper()` | Convert cases; equivalent to `x.lower()` or `x.upper()` for each element. |\n",
    "| `match(pattern, flags=0)` | Use `re.match` with the passed regular expression on each element, returning matched groups as a list. |\n",
    "| `pad(side='left', fillchar=' ', width=None)` | Add whitespace to the left, right, or both sides of strings. |\n",
    "| `center(width=None, fillchar=' ')` | Equivalent to `pad(side='both')`. |\n",
    "| `repeat(repeats)` | Duplicate values (e.g., `s.str.repeat(3)` is equivalent to `x * 3` for each string). |\n",
    "| `replace(pat, repl, regex=False)` | Replace occurrences of the pattern or regular expression with some other string. |\n",
    "| `slice(start=None, stop=None, step=None)` | Slice each string in the Series. |\n",
    "| `split(pat, n=-1, expand=False)` | Split strings on the delimiter or regular expression. |\n",
    "| `strip(chars=None)` | Trim whitespace from both sides, including newlines. |\n",
    "| `rstrip(chars=None)` | Trim whitespace on the right side. |\n",
    "| `lstrip(chars=None)` | Trim whitespace on the left side. |\n"
   ]
  }
 ],
 "metadata": {
  "kernelspec": {
   "display_name": "Python 3",
   "language": "python",
   "name": "python3"
  },
  "language_info": {
   "codemirror_mode": {
    "name": "ipython",
    "version": 3
   },
   "file_extension": ".py",
   "mimetype": "text/x-python",
   "name": "python",
   "nbconvert_exporter": "python",
   "pygments_lexer": "ipython3",
   "version": "3.12.6"
  }
 },
 "nbformat": 4,
 "nbformat_minor": 2
}
